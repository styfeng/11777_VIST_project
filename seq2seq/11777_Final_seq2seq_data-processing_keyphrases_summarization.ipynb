{
  "nbformat": 4,
  "nbformat_minor": 0,
  "metadata": {
    "colab": {
      "name": "11777_Final_seq2seq.ipynb",
      "provenance": [],
      "collapsed_sections": [],
      "machine_shape": "hm"
    },
    "kernelspec": {
      "name": "python3",
      "display_name": "Python 3"
    },
    "language_info": {
      "name": "python"
    },
    "widgets": {
      "application/vnd.jupyter.widget-state+json": {
        "b3cfa6ab2a694c7db91978186c430b4d": {
          "model_module": "@jupyter-widgets/controls",
          "model_name": "HBoxModel",
          "model_module_version": "1.5.0",
          "state": {
            "_view_name": "HBoxView",
            "_dom_classes": [],
            "_model_name": "HBoxModel",
            "_view_module": "@jupyter-widgets/controls",
            "_model_module_version": "1.5.0",
            "_view_count": null,
            "_view_module_version": "1.5.0",
            "box_style": "",
            "layout": "IPY_MODEL_795a8558a3144e078b01951e2818607a",
            "_model_module": "@jupyter-widgets/controls",
            "children": [
              "IPY_MODEL_6acd1a61b6a64f0e87db37d4bab66700",
              "IPY_MODEL_04c10ad9031748adb0594775e960eb69",
              "IPY_MODEL_977d65e02bd84ef4b2069116cf02c0ef"
            ]
          }
        },
        "795a8558a3144e078b01951e2818607a": {
          "model_module": "@jupyter-widgets/base",
          "model_name": "LayoutModel",
          "model_module_version": "1.2.0",
          "state": {
            "_view_name": "LayoutView",
            "grid_template_rows": null,
            "right": null,
            "justify_content": null,
            "_view_module": "@jupyter-widgets/base",
            "overflow": null,
            "_model_module_version": "1.2.0",
            "_view_count": null,
            "flex_flow": null,
            "width": null,
            "min_width": null,
            "border": null,
            "align_items": null,
            "bottom": null,
            "_model_module": "@jupyter-widgets/base",
            "top": null,
            "grid_column": null,
            "overflow_y": null,
            "overflow_x": null,
            "grid_auto_flow": null,
            "grid_area": null,
            "grid_template_columns": null,
            "flex": null,
            "_model_name": "LayoutModel",
            "justify_items": null,
            "grid_row": null,
            "max_height": null,
            "align_content": null,
            "visibility": null,
            "align_self": null,
            "height": null,
            "min_height": null,
            "padding": null,
            "grid_auto_rows": null,
            "grid_gap": null,
            "max_width": null,
            "order": null,
            "_view_module_version": "1.2.0",
            "grid_template_areas": null,
            "object_position": null,
            "object_fit": null,
            "grid_auto_columns": null,
            "margin": null,
            "display": null,
            "left": null
          }
        },
        "6acd1a61b6a64f0e87db37d4bab66700": {
          "model_module": "@jupyter-widgets/controls",
          "model_name": "HTMLModel",
          "model_module_version": "1.5.0",
          "state": {
            "_view_name": "HTMLView",
            "style": "IPY_MODEL_a76fe9da299c41c7b18147f1143d463a",
            "_dom_classes": [],
            "description": "",
            "_model_name": "HTMLModel",
            "placeholder": "​",
            "_view_module": "@jupyter-widgets/controls",
            "_model_module_version": "1.5.0",
            "value": "Downloading: 100%",
            "_view_count": null,
            "_view_module_version": "1.5.0",
            "description_tooltip": null,
            "_model_module": "@jupyter-widgets/controls",
            "layout": "IPY_MODEL_432db5aee001452988e22a3c59f83aad"
          }
        },
        "04c10ad9031748adb0594775e960eb69": {
          "model_module": "@jupyter-widgets/controls",
          "model_name": "FloatProgressModel",
          "model_module_version": "1.5.0",
          "state": {
            "_view_name": "ProgressView",
            "style": "IPY_MODEL_36565a95884f449bb3094782a4317bb5",
            "_dom_classes": [],
            "description": "",
            "_model_name": "FloatProgressModel",
            "bar_style": "success",
            "max": 1199,
            "_view_module": "@jupyter-widgets/controls",
            "_model_module_version": "1.5.0",
            "value": 1199,
            "_view_count": null,
            "_view_module_version": "1.5.0",
            "orientation": "horizontal",
            "min": 0,
            "description_tooltip": null,
            "_model_module": "@jupyter-widgets/controls",
            "layout": "IPY_MODEL_62c7edc7c79a4a4fb12a9d3bbbcc3b03"
          }
        },
        "977d65e02bd84ef4b2069116cf02c0ef": {
          "model_module": "@jupyter-widgets/controls",
          "model_name": "HTMLModel",
          "model_module_version": "1.5.0",
          "state": {
            "_view_name": "HTMLView",
            "style": "IPY_MODEL_ac730b46dcf84f60b99c0acb2a989365",
            "_dom_classes": [],
            "description": "",
            "_model_name": "HTMLModel",
            "placeholder": "​",
            "_view_module": "@jupyter-widgets/controls",
            "_model_module_version": "1.5.0",
            "value": " 1.20k/1.20k [00:00&lt;00:00, 40.6kB/s]",
            "_view_count": null,
            "_view_module_version": "1.5.0",
            "description_tooltip": null,
            "_model_module": "@jupyter-widgets/controls",
            "layout": "IPY_MODEL_3cb3b80206064154bd5a8eb84b726757"
          }
        },
        "a76fe9da299c41c7b18147f1143d463a": {
          "model_module": "@jupyter-widgets/controls",
          "model_name": "DescriptionStyleModel",
          "model_module_version": "1.5.0",
          "state": {
            "_view_name": "StyleView",
            "_model_name": "DescriptionStyleModel",
            "description_width": "",
            "_view_module": "@jupyter-widgets/base",
            "_model_module_version": "1.5.0",
            "_view_count": null,
            "_view_module_version": "1.2.0",
            "_model_module": "@jupyter-widgets/controls"
          }
        },
        "432db5aee001452988e22a3c59f83aad": {
          "model_module": "@jupyter-widgets/base",
          "model_name": "LayoutModel",
          "model_module_version": "1.2.0",
          "state": {
            "_view_name": "LayoutView",
            "grid_template_rows": null,
            "right": null,
            "justify_content": null,
            "_view_module": "@jupyter-widgets/base",
            "overflow": null,
            "_model_module_version": "1.2.0",
            "_view_count": null,
            "flex_flow": null,
            "width": null,
            "min_width": null,
            "border": null,
            "align_items": null,
            "bottom": null,
            "_model_module": "@jupyter-widgets/base",
            "top": null,
            "grid_column": null,
            "overflow_y": null,
            "overflow_x": null,
            "grid_auto_flow": null,
            "grid_area": null,
            "grid_template_columns": null,
            "flex": null,
            "_model_name": "LayoutModel",
            "justify_items": null,
            "grid_row": null,
            "max_height": null,
            "align_content": null,
            "visibility": null,
            "align_self": null,
            "height": null,
            "min_height": null,
            "padding": null,
            "grid_auto_rows": null,
            "grid_gap": null,
            "max_width": null,
            "order": null,
            "_view_module_version": "1.2.0",
            "grid_template_areas": null,
            "object_position": null,
            "object_fit": null,
            "grid_auto_columns": null,
            "margin": null,
            "display": null,
            "left": null
          }
        },
        "36565a95884f449bb3094782a4317bb5": {
          "model_module": "@jupyter-widgets/controls",
          "model_name": "ProgressStyleModel",
          "model_module_version": "1.5.0",
          "state": {
            "_view_name": "StyleView",
            "_model_name": "ProgressStyleModel",
            "description_width": "",
            "_view_module": "@jupyter-widgets/base",
            "_model_module_version": "1.5.0",
            "_view_count": null,
            "_view_module_version": "1.2.0",
            "bar_color": null,
            "_model_module": "@jupyter-widgets/controls"
          }
        },
        "62c7edc7c79a4a4fb12a9d3bbbcc3b03": {
          "model_module": "@jupyter-widgets/base",
          "model_name": "LayoutModel",
          "model_module_version": "1.2.0",
          "state": {
            "_view_name": "LayoutView",
            "grid_template_rows": null,
            "right": null,
            "justify_content": null,
            "_view_module": "@jupyter-widgets/base",
            "overflow": null,
            "_model_module_version": "1.2.0",
            "_view_count": null,
            "flex_flow": null,
            "width": null,
            "min_width": null,
            "border": null,
            "align_items": null,
            "bottom": null,
            "_model_module": "@jupyter-widgets/base",
            "top": null,
            "grid_column": null,
            "overflow_y": null,
            "overflow_x": null,
            "grid_auto_flow": null,
            "grid_area": null,
            "grid_template_columns": null,
            "flex": null,
            "_model_name": "LayoutModel",
            "justify_items": null,
            "grid_row": null,
            "max_height": null,
            "align_content": null,
            "visibility": null,
            "align_self": null,
            "height": null,
            "min_height": null,
            "padding": null,
            "grid_auto_rows": null,
            "grid_gap": null,
            "max_width": null,
            "order": null,
            "_view_module_version": "1.2.0",
            "grid_template_areas": null,
            "object_position": null,
            "object_fit": null,
            "grid_auto_columns": null,
            "margin": null,
            "display": null,
            "left": null
          }
        },
        "ac730b46dcf84f60b99c0acb2a989365": {
          "model_module": "@jupyter-widgets/controls",
          "model_name": "DescriptionStyleModel",
          "model_module_version": "1.5.0",
          "state": {
            "_view_name": "StyleView",
            "_model_name": "DescriptionStyleModel",
            "description_width": "",
            "_view_module": "@jupyter-widgets/base",
            "_model_module_version": "1.5.0",
            "_view_count": null,
            "_view_module_version": "1.2.0",
            "_model_module": "@jupyter-widgets/controls"
          }
        },
        "3cb3b80206064154bd5a8eb84b726757": {
          "model_module": "@jupyter-widgets/base",
          "model_name": "LayoutModel",
          "model_module_version": "1.2.0",
          "state": {
            "_view_name": "LayoutView",
            "grid_template_rows": null,
            "right": null,
            "justify_content": null,
            "_view_module": "@jupyter-widgets/base",
            "overflow": null,
            "_model_module_version": "1.2.0",
            "_view_count": null,
            "flex_flow": null,
            "width": null,
            "min_width": null,
            "border": null,
            "align_items": null,
            "bottom": null,
            "_model_module": "@jupyter-widgets/base",
            "top": null,
            "grid_column": null,
            "overflow_y": null,
            "overflow_x": null,
            "grid_auto_flow": null,
            "grid_area": null,
            "grid_template_columns": null,
            "flex": null,
            "_model_name": "LayoutModel",
            "justify_items": null,
            "grid_row": null,
            "max_height": null,
            "align_content": null,
            "visibility": null,
            "align_self": null,
            "height": null,
            "min_height": null,
            "padding": null,
            "grid_auto_rows": null,
            "grid_gap": null,
            "max_width": null,
            "order": null,
            "_view_module_version": "1.2.0",
            "grid_template_areas": null,
            "object_position": null,
            "object_fit": null,
            "grid_auto_columns": null,
            "margin": null,
            "display": null,
            "left": null
          }
        },
        "af9ec6313be240ca9adafe0db56dfcbb": {
          "model_module": "@jupyter-widgets/controls",
          "model_name": "HBoxModel",
          "model_module_version": "1.5.0",
          "state": {
            "_view_name": "HBoxView",
            "_dom_classes": [],
            "_model_name": "HBoxModel",
            "_view_module": "@jupyter-widgets/controls",
            "_model_module_version": "1.5.0",
            "_view_count": null,
            "_view_module_version": "1.5.0",
            "box_style": "",
            "layout": "IPY_MODEL_72bc680279c345f8a380a290babe2924",
            "_model_module": "@jupyter-widgets/controls",
            "children": [
              "IPY_MODEL_935d937898614884a4047116b8b55271",
              "IPY_MODEL_fc96face7fa24129af96c4ee74e47845",
              "IPY_MODEL_6c50999c6b1f481682fac6e2861d04a3"
            ]
          }
        },
        "72bc680279c345f8a380a290babe2924": {
          "model_module": "@jupyter-widgets/base",
          "model_name": "LayoutModel",
          "model_module_version": "1.2.0",
          "state": {
            "_view_name": "LayoutView",
            "grid_template_rows": null,
            "right": null,
            "justify_content": null,
            "_view_module": "@jupyter-widgets/base",
            "overflow": null,
            "_model_module_version": "1.2.0",
            "_view_count": null,
            "flex_flow": null,
            "width": null,
            "min_width": null,
            "border": null,
            "align_items": null,
            "bottom": null,
            "_model_module": "@jupyter-widgets/base",
            "top": null,
            "grid_column": null,
            "overflow_y": null,
            "overflow_x": null,
            "grid_auto_flow": null,
            "grid_area": null,
            "grid_template_columns": null,
            "flex": null,
            "_model_name": "LayoutModel",
            "justify_items": null,
            "grid_row": null,
            "max_height": null,
            "align_content": null,
            "visibility": null,
            "align_self": null,
            "height": null,
            "min_height": null,
            "padding": null,
            "grid_auto_rows": null,
            "grid_gap": null,
            "max_width": null,
            "order": null,
            "_view_module_version": "1.2.0",
            "grid_template_areas": null,
            "object_position": null,
            "object_fit": null,
            "grid_auto_columns": null,
            "margin": null,
            "display": null,
            "left": null
          }
        },
        "935d937898614884a4047116b8b55271": {
          "model_module": "@jupyter-widgets/controls",
          "model_name": "HTMLModel",
          "model_module_version": "1.5.0",
          "state": {
            "_view_name": "HTMLView",
            "style": "IPY_MODEL_a901195b84ec49d29d0da018b78df41f",
            "_dom_classes": [],
            "description": "",
            "_model_name": "HTMLModel",
            "placeholder": "​",
            "_view_module": "@jupyter-widgets/controls",
            "_model_module_version": "1.5.0",
            "value": "Downloading: 100%",
            "_view_count": null,
            "_view_module_version": "1.5.0",
            "description_tooltip": null,
            "_model_module": "@jupyter-widgets/controls",
            "layout": "IPY_MODEL_aae363bd3c6b4143ae5669add1f538bd"
          }
        },
        "fc96face7fa24129af96c4ee74e47845": {
          "model_module": "@jupyter-widgets/controls",
          "model_name": "FloatProgressModel",
          "model_module_version": "1.5.0",
          "state": {
            "_view_name": "ProgressView",
            "style": "IPY_MODEL_a9922a37aa004e20bac198ed262c6b61",
            "_dom_classes": [],
            "description": "",
            "_model_name": "FloatProgressModel",
            "bar_style": "success",
            "max": 791656,
            "_view_module": "@jupyter-widgets/controls",
            "_model_module_version": "1.5.0",
            "value": 791656,
            "_view_count": null,
            "_view_module_version": "1.5.0",
            "orientation": "horizontal",
            "min": 0,
            "description_tooltip": null,
            "_model_module": "@jupyter-widgets/controls",
            "layout": "IPY_MODEL_133852f8239b4ca19c27a56b8e87232d"
          }
        },
        "6c50999c6b1f481682fac6e2861d04a3": {
          "model_module": "@jupyter-widgets/controls",
          "model_name": "HTMLModel",
          "model_module_version": "1.5.0",
          "state": {
            "_view_name": "HTMLView",
            "style": "IPY_MODEL_1fcca7854ebf4c8483990ce577b98b41",
            "_dom_classes": [],
            "description": "",
            "_model_name": "HTMLModel",
            "placeholder": "​",
            "_view_module": "@jupyter-widgets/controls",
            "_model_module_version": "1.5.0",
            "value": " 792k/792k [00:00&lt;00:00, 2.47MB/s]",
            "_view_count": null,
            "_view_module_version": "1.5.0",
            "description_tooltip": null,
            "_model_module": "@jupyter-widgets/controls",
            "layout": "IPY_MODEL_f4e0773ece6d490794f8fb8fd2f7556d"
          }
        },
        "a901195b84ec49d29d0da018b78df41f": {
          "model_module": "@jupyter-widgets/controls",
          "model_name": "DescriptionStyleModel",
          "model_module_version": "1.5.0",
          "state": {
            "_view_name": "StyleView",
            "_model_name": "DescriptionStyleModel",
            "description_width": "",
            "_view_module": "@jupyter-widgets/base",
            "_model_module_version": "1.5.0",
            "_view_count": null,
            "_view_module_version": "1.2.0",
            "_model_module": "@jupyter-widgets/controls"
          }
        },
        "aae363bd3c6b4143ae5669add1f538bd": {
          "model_module": "@jupyter-widgets/base",
          "model_name": "LayoutModel",
          "model_module_version": "1.2.0",
          "state": {
            "_view_name": "LayoutView",
            "grid_template_rows": null,
            "right": null,
            "justify_content": null,
            "_view_module": "@jupyter-widgets/base",
            "overflow": null,
            "_model_module_version": "1.2.0",
            "_view_count": null,
            "flex_flow": null,
            "width": null,
            "min_width": null,
            "border": null,
            "align_items": null,
            "bottom": null,
            "_model_module": "@jupyter-widgets/base",
            "top": null,
            "grid_column": null,
            "overflow_y": null,
            "overflow_x": null,
            "grid_auto_flow": null,
            "grid_area": null,
            "grid_template_columns": null,
            "flex": null,
            "_model_name": "LayoutModel",
            "justify_items": null,
            "grid_row": null,
            "max_height": null,
            "align_content": null,
            "visibility": null,
            "align_self": null,
            "height": null,
            "min_height": null,
            "padding": null,
            "grid_auto_rows": null,
            "grid_gap": null,
            "max_width": null,
            "order": null,
            "_view_module_version": "1.2.0",
            "grid_template_areas": null,
            "object_position": null,
            "object_fit": null,
            "grid_auto_columns": null,
            "margin": null,
            "display": null,
            "left": null
          }
        },
        "a9922a37aa004e20bac198ed262c6b61": {
          "model_module": "@jupyter-widgets/controls",
          "model_name": "ProgressStyleModel",
          "model_module_version": "1.5.0",
          "state": {
            "_view_name": "StyleView",
            "_model_name": "ProgressStyleModel",
            "description_width": "",
            "_view_module": "@jupyter-widgets/base",
            "_model_module_version": "1.5.0",
            "_view_count": null,
            "_view_module_version": "1.2.0",
            "bar_color": null,
            "_model_module": "@jupyter-widgets/controls"
          }
        },
        "133852f8239b4ca19c27a56b8e87232d": {
          "model_module": "@jupyter-widgets/base",
          "model_name": "LayoutModel",
          "model_module_version": "1.2.0",
          "state": {
            "_view_name": "LayoutView",
            "grid_template_rows": null,
            "right": null,
            "justify_content": null,
            "_view_module": "@jupyter-widgets/base",
            "overflow": null,
            "_model_module_version": "1.2.0",
            "_view_count": null,
            "flex_flow": null,
            "width": null,
            "min_width": null,
            "border": null,
            "align_items": null,
            "bottom": null,
            "_model_module": "@jupyter-widgets/base",
            "top": null,
            "grid_column": null,
            "overflow_y": null,
            "overflow_x": null,
            "grid_auto_flow": null,
            "grid_area": null,
            "grid_template_columns": null,
            "flex": null,
            "_model_name": "LayoutModel",
            "justify_items": null,
            "grid_row": null,
            "max_height": null,
            "align_content": null,
            "visibility": null,
            "align_self": null,
            "height": null,
            "min_height": null,
            "padding": null,
            "grid_auto_rows": null,
            "grid_gap": null,
            "max_width": null,
            "order": null,
            "_view_module_version": "1.2.0",
            "grid_template_areas": null,
            "object_position": null,
            "object_fit": null,
            "grid_auto_columns": null,
            "margin": null,
            "display": null,
            "left": null
          }
        },
        "1fcca7854ebf4c8483990ce577b98b41": {
          "model_module": "@jupyter-widgets/controls",
          "model_name": "DescriptionStyleModel",
          "model_module_version": "1.5.0",
          "state": {
            "_view_name": "StyleView",
            "_model_name": "DescriptionStyleModel",
            "description_width": "",
            "_view_module": "@jupyter-widgets/base",
            "_model_module_version": "1.5.0",
            "_view_count": null,
            "_view_module_version": "1.2.0",
            "_model_module": "@jupyter-widgets/controls"
          }
        },
        "f4e0773ece6d490794f8fb8fd2f7556d": {
          "model_module": "@jupyter-widgets/base",
          "model_name": "LayoutModel",
          "model_module_version": "1.2.0",
          "state": {
            "_view_name": "LayoutView",
            "grid_template_rows": null,
            "right": null,
            "justify_content": null,
            "_view_module": "@jupyter-widgets/base",
            "overflow": null,
            "_model_module_version": "1.2.0",
            "_view_count": null,
            "flex_flow": null,
            "width": null,
            "min_width": null,
            "border": null,
            "align_items": null,
            "bottom": null,
            "_model_module": "@jupyter-widgets/base",
            "top": null,
            "grid_column": null,
            "overflow_y": null,
            "overflow_x": null,
            "grid_auto_flow": null,
            "grid_area": null,
            "grid_template_columns": null,
            "flex": null,
            "_model_name": "LayoutModel",
            "justify_items": null,
            "grid_row": null,
            "max_height": null,
            "align_content": null,
            "visibility": null,
            "align_self": null,
            "height": null,
            "min_height": null,
            "padding": null,
            "grid_auto_rows": null,
            "grid_gap": null,
            "max_width": null,
            "order": null,
            "_view_module_version": "1.2.0",
            "grid_template_areas": null,
            "object_position": null,
            "object_fit": null,
            "grid_auto_columns": null,
            "margin": null,
            "display": null,
            "left": null
          }
        },
        "5cf4ba25e8ec48f28bf7e53a287eb1a7": {
          "model_module": "@jupyter-widgets/controls",
          "model_name": "HBoxModel",
          "model_module_version": "1.5.0",
          "state": {
            "_view_name": "HBoxView",
            "_dom_classes": [],
            "_model_name": "HBoxModel",
            "_view_module": "@jupyter-widgets/controls",
            "_model_module_version": "1.5.0",
            "_view_count": null,
            "_view_module_version": "1.5.0",
            "box_style": "",
            "layout": "IPY_MODEL_aaa80aee998943a2bb0ce3f3e6e64233",
            "_model_module": "@jupyter-widgets/controls",
            "children": [
              "IPY_MODEL_d23033f4d28c4dc69ef32e427287f5d7",
              "IPY_MODEL_bdb371ac2e7b4c1fb5cbb4d8af68ee37",
              "IPY_MODEL_67507fb1f82f4d68bef503443bc93e01"
            ]
          }
        },
        "aaa80aee998943a2bb0ce3f3e6e64233": {
          "model_module": "@jupyter-widgets/base",
          "model_name": "LayoutModel",
          "model_module_version": "1.2.0",
          "state": {
            "_view_name": "LayoutView",
            "grid_template_rows": null,
            "right": null,
            "justify_content": null,
            "_view_module": "@jupyter-widgets/base",
            "overflow": null,
            "_model_module_version": "1.2.0",
            "_view_count": null,
            "flex_flow": null,
            "width": null,
            "min_width": null,
            "border": null,
            "align_items": null,
            "bottom": null,
            "_model_module": "@jupyter-widgets/base",
            "top": null,
            "grid_column": null,
            "overflow_y": null,
            "overflow_x": null,
            "grid_auto_flow": null,
            "grid_area": null,
            "grid_template_columns": null,
            "flex": null,
            "_model_name": "LayoutModel",
            "justify_items": null,
            "grid_row": null,
            "max_height": null,
            "align_content": null,
            "visibility": null,
            "align_self": null,
            "height": null,
            "min_height": null,
            "padding": null,
            "grid_auto_rows": null,
            "grid_gap": null,
            "max_width": null,
            "order": null,
            "_view_module_version": "1.2.0",
            "grid_template_areas": null,
            "object_position": null,
            "object_fit": null,
            "grid_auto_columns": null,
            "margin": null,
            "display": null,
            "left": null
          }
        },
        "d23033f4d28c4dc69ef32e427287f5d7": {
          "model_module": "@jupyter-widgets/controls",
          "model_name": "HTMLModel",
          "model_module_version": "1.5.0",
          "state": {
            "_view_name": "HTMLView",
            "style": "IPY_MODEL_7f6534b9818f42d5aa5d91d97b8619d5",
            "_dom_classes": [],
            "description": "",
            "_model_name": "HTMLModel",
            "placeholder": "​",
            "_view_module": "@jupyter-widgets/controls",
            "_model_module_version": "1.5.0",
            "value": "100%",
            "_view_count": null,
            "_view_module_version": "1.5.0",
            "description_tooltip": null,
            "_model_module": "@jupyter-widgets/controls",
            "layout": "IPY_MODEL_033a1faadc4740efb14230fa13d47dae"
          }
        },
        "bdb371ac2e7b4c1fb5cbb4d8af68ee37": {
          "model_module": "@jupyter-widgets/controls",
          "model_name": "FloatProgressModel",
          "model_module_version": "1.5.0",
          "state": {
            "_view_name": "ProgressView",
            "style": "IPY_MODEL_38eb9092654346f58865dc479d0bde66",
            "_dom_classes": [],
            "description": "",
            "_model_name": "FloatProgressModel",
            "bar_style": "success",
            "max": 10000,
            "_view_module": "@jupyter-widgets/controls",
            "_model_module_version": "1.5.0",
            "value": 10000,
            "_view_count": null,
            "_view_module_version": "1.5.0",
            "orientation": "horizontal",
            "min": 0,
            "description_tooltip": null,
            "_model_module": "@jupyter-widgets/controls",
            "layout": "IPY_MODEL_4f13eaaeedeb480c88e2e136025fada3"
          }
        },
        "67507fb1f82f4d68bef503443bc93e01": {
          "model_module": "@jupyter-widgets/controls",
          "model_name": "HTMLModel",
          "model_module_version": "1.5.0",
          "state": {
            "_view_name": "HTMLView",
            "style": "IPY_MODEL_6c53649bd577470fb97fd6a6e113654e",
            "_dom_classes": [],
            "description": "",
            "_model_name": "HTMLModel",
            "placeholder": "​",
            "_view_module": "@jupyter-widgets/controls",
            "_model_module_version": "1.5.0",
            "value": " 10000/10000 [00:16&lt;00:00, 628.96ex/s]",
            "_view_count": null,
            "_view_module_version": "1.5.0",
            "description_tooltip": null,
            "_model_module": "@jupyter-widgets/controls",
            "layout": "IPY_MODEL_9917a76a8b1e4291a040bb510b45c368"
          }
        },
        "7f6534b9818f42d5aa5d91d97b8619d5": {
          "model_module": "@jupyter-widgets/controls",
          "model_name": "DescriptionStyleModel",
          "model_module_version": "1.5.0",
          "state": {
            "_view_name": "StyleView",
            "_model_name": "DescriptionStyleModel",
            "description_width": "",
            "_view_module": "@jupyter-widgets/base",
            "_model_module_version": "1.5.0",
            "_view_count": null,
            "_view_module_version": "1.2.0",
            "_model_module": "@jupyter-widgets/controls"
          }
        },
        "033a1faadc4740efb14230fa13d47dae": {
          "model_module": "@jupyter-widgets/base",
          "model_name": "LayoutModel",
          "model_module_version": "1.2.0",
          "state": {
            "_view_name": "LayoutView",
            "grid_template_rows": null,
            "right": null,
            "justify_content": null,
            "_view_module": "@jupyter-widgets/base",
            "overflow": null,
            "_model_module_version": "1.2.0",
            "_view_count": null,
            "flex_flow": null,
            "width": null,
            "min_width": null,
            "border": null,
            "align_items": null,
            "bottom": null,
            "_model_module": "@jupyter-widgets/base",
            "top": null,
            "grid_column": null,
            "overflow_y": null,
            "overflow_x": null,
            "grid_auto_flow": null,
            "grid_area": null,
            "grid_template_columns": null,
            "flex": null,
            "_model_name": "LayoutModel",
            "justify_items": null,
            "grid_row": null,
            "max_height": null,
            "align_content": null,
            "visibility": null,
            "align_self": null,
            "height": null,
            "min_height": null,
            "padding": null,
            "grid_auto_rows": null,
            "grid_gap": null,
            "max_width": null,
            "order": null,
            "_view_module_version": "1.2.0",
            "grid_template_areas": null,
            "object_position": null,
            "object_fit": null,
            "grid_auto_columns": null,
            "margin": null,
            "display": null,
            "left": null
          }
        },
        "38eb9092654346f58865dc479d0bde66": {
          "model_module": "@jupyter-widgets/controls",
          "model_name": "ProgressStyleModel",
          "model_module_version": "1.5.0",
          "state": {
            "_view_name": "StyleView",
            "_model_name": "ProgressStyleModel",
            "description_width": "",
            "_view_module": "@jupyter-widgets/base",
            "_model_module_version": "1.5.0",
            "_view_count": null,
            "_view_module_version": "1.2.0",
            "bar_color": null,
            "_model_module": "@jupyter-widgets/controls"
          }
        },
        "4f13eaaeedeb480c88e2e136025fada3": {
          "model_module": "@jupyter-widgets/base",
          "model_name": "LayoutModel",
          "model_module_version": "1.2.0",
          "state": {
            "_view_name": "LayoutView",
            "grid_template_rows": null,
            "right": null,
            "justify_content": null,
            "_view_module": "@jupyter-widgets/base",
            "overflow": null,
            "_model_module_version": "1.2.0",
            "_view_count": null,
            "flex_flow": null,
            "width": null,
            "min_width": null,
            "border": null,
            "align_items": null,
            "bottom": null,
            "_model_module": "@jupyter-widgets/base",
            "top": null,
            "grid_column": null,
            "overflow_y": null,
            "overflow_x": null,
            "grid_auto_flow": null,
            "grid_area": null,
            "grid_template_columns": null,
            "flex": null,
            "_model_name": "LayoutModel",
            "justify_items": null,
            "grid_row": null,
            "max_height": null,
            "align_content": null,
            "visibility": null,
            "align_self": null,
            "height": null,
            "min_height": null,
            "padding": null,
            "grid_auto_rows": null,
            "grid_gap": null,
            "max_width": null,
            "order": null,
            "_view_module_version": "1.2.0",
            "grid_template_areas": null,
            "object_position": null,
            "object_fit": null,
            "grid_auto_columns": null,
            "margin": null,
            "display": null,
            "left": null
          }
        },
        "6c53649bd577470fb97fd6a6e113654e": {
          "model_module": "@jupyter-widgets/controls",
          "model_name": "DescriptionStyleModel",
          "model_module_version": "1.5.0",
          "state": {
            "_view_name": "StyleView",
            "_model_name": "DescriptionStyleModel",
            "description_width": "",
            "_view_module": "@jupyter-widgets/base",
            "_model_module_version": "1.5.0",
            "_view_count": null,
            "_view_module_version": "1.2.0",
            "_model_module": "@jupyter-widgets/controls"
          }
        },
        "9917a76a8b1e4291a040bb510b45c368": {
          "model_module": "@jupyter-widgets/base",
          "model_name": "LayoutModel",
          "model_module_version": "1.2.0",
          "state": {
            "_view_name": "LayoutView",
            "grid_template_rows": null,
            "right": null,
            "justify_content": null,
            "_view_module": "@jupyter-widgets/base",
            "overflow": null,
            "_model_module_version": "1.2.0",
            "_view_count": null,
            "flex_flow": null,
            "width": null,
            "min_width": null,
            "border": null,
            "align_items": null,
            "bottom": null,
            "_model_module": "@jupyter-widgets/base",
            "top": null,
            "grid_column": null,
            "overflow_y": null,
            "overflow_x": null,
            "grid_auto_flow": null,
            "grid_area": null,
            "grid_template_columns": null,
            "flex": null,
            "_model_name": "LayoutModel",
            "justify_items": null,
            "grid_row": null,
            "max_height": null,
            "align_content": null,
            "visibility": null,
            "align_self": null,
            "height": null,
            "min_height": null,
            "padding": null,
            "grid_auto_rows": null,
            "grid_gap": null,
            "max_width": null,
            "order": null,
            "_view_module_version": "1.2.0",
            "grid_template_areas": null,
            "object_position": null,
            "object_fit": null,
            "grid_auto_columns": null,
            "margin": null,
            "display": null,
            "left": null
          }
        },
        "09f5fefba1064d3b948bfa6f8df4dd50": {
          "model_module": "@jupyter-widgets/controls",
          "model_name": "HBoxModel",
          "model_module_version": "1.5.0",
          "state": {
            "_view_name": "HBoxView",
            "_dom_classes": [],
            "_model_name": "HBoxModel",
            "_view_module": "@jupyter-widgets/controls",
            "_model_module_version": "1.5.0",
            "_view_count": null,
            "_view_module_version": "1.5.0",
            "box_style": "",
            "layout": "IPY_MODEL_6f80561413964f8e90440eac7564f638",
            "_model_module": "@jupyter-widgets/controls",
            "children": [
              "IPY_MODEL_828e5ad139f245b59272dccb15d3f6be",
              "IPY_MODEL_d48b435a5e6449cbb8d8a3ec7afb0a9c",
              "IPY_MODEL_58a9a89252fe437891db56d6becc33bf"
            ]
          }
        },
        "6f80561413964f8e90440eac7564f638": {
          "model_module": "@jupyter-widgets/base",
          "model_name": "LayoutModel",
          "model_module_version": "1.2.0",
          "state": {
            "_view_name": "LayoutView",
            "grid_template_rows": null,
            "right": null,
            "justify_content": null,
            "_view_module": "@jupyter-widgets/base",
            "overflow": null,
            "_model_module_version": "1.2.0",
            "_view_count": null,
            "flex_flow": null,
            "width": null,
            "min_width": null,
            "border": null,
            "align_items": null,
            "bottom": null,
            "_model_module": "@jupyter-widgets/base",
            "top": null,
            "grid_column": null,
            "overflow_y": null,
            "overflow_x": null,
            "grid_auto_flow": null,
            "grid_area": null,
            "grid_template_columns": null,
            "flex": null,
            "_model_name": "LayoutModel",
            "justify_items": null,
            "grid_row": null,
            "max_height": null,
            "align_content": null,
            "visibility": null,
            "align_self": null,
            "height": null,
            "min_height": null,
            "padding": null,
            "grid_auto_rows": null,
            "grid_gap": null,
            "max_width": null,
            "order": null,
            "_view_module_version": "1.2.0",
            "grid_template_areas": null,
            "object_position": null,
            "object_fit": null,
            "grid_auto_columns": null,
            "margin": null,
            "display": null,
            "left": null
          }
        },
        "828e5ad139f245b59272dccb15d3f6be": {
          "model_module": "@jupyter-widgets/controls",
          "model_name": "HTMLModel",
          "model_module_version": "1.5.0",
          "state": {
            "_view_name": "HTMLView",
            "style": "IPY_MODEL_b52c7d42fb54474dbec74f4fc7cb6eaf",
            "_dom_classes": [],
            "description": "",
            "_model_name": "HTMLModel",
            "placeholder": "​",
            "_view_module": "@jupyter-widgets/controls",
            "_model_module_version": "1.5.0",
            "value": "100%",
            "_view_count": null,
            "_view_module_version": "1.5.0",
            "description_tooltip": null,
            "_model_module": "@jupyter-widgets/controls",
            "layout": "IPY_MODEL_cfbbbb959345487a9633cf3069fc8bdb"
          }
        },
        "d48b435a5e6449cbb8d8a3ec7afb0a9c": {
          "model_module": "@jupyter-widgets/controls",
          "model_name": "FloatProgressModel",
          "model_module_version": "1.5.0",
          "state": {
            "_view_name": "ProgressView",
            "style": "IPY_MODEL_9881441031dc4501a8a11ece49ed0bb5",
            "_dom_classes": [],
            "description": "",
            "_model_name": "FloatProgressModel",
            "bar_style": "success",
            "max": 1,
            "_view_module": "@jupyter-widgets/controls",
            "_model_module_version": "1.5.0",
            "value": 1,
            "_view_count": null,
            "_view_module_version": "1.5.0",
            "orientation": "horizontal",
            "min": 0,
            "description_tooltip": null,
            "_model_module": "@jupyter-widgets/controls",
            "layout": "IPY_MODEL_8802356836c04cab848a571b3129cff5"
          }
        },
        "58a9a89252fe437891db56d6becc33bf": {
          "model_module": "@jupyter-widgets/controls",
          "model_name": "HTMLModel",
          "model_module_version": "1.5.0",
          "state": {
            "_view_name": "HTMLView",
            "style": "IPY_MODEL_e6369dfa6a5c4fada05be3d06b1dc53f",
            "_dom_classes": [],
            "description": "",
            "_model_name": "HTMLModel",
            "placeholder": "​",
            "_view_module": "@jupyter-widgets/controls",
            "_model_module_version": "1.5.0",
            "value": " 1/1 [00:00&lt;00:00,  9.68ba/s]",
            "_view_count": null,
            "_view_module_version": "1.5.0",
            "description_tooltip": null,
            "_model_module": "@jupyter-widgets/controls",
            "layout": "IPY_MODEL_6fd1c1527471471586d4a920bd9fed80"
          }
        },
        "b52c7d42fb54474dbec74f4fc7cb6eaf": {
          "model_module": "@jupyter-widgets/controls",
          "model_name": "DescriptionStyleModel",
          "model_module_version": "1.5.0",
          "state": {
            "_view_name": "StyleView",
            "_model_name": "DescriptionStyleModel",
            "description_width": "",
            "_view_module": "@jupyter-widgets/base",
            "_model_module_version": "1.5.0",
            "_view_count": null,
            "_view_module_version": "1.2.0",
            "_model_module": "@jupyter-widgets/controls"
          }
        },
        "cfbbbb959345487a9633cf3069fc8bdb": {
          "model_module": "@jupyter-widgets/base",
          "model_name": "LayoutModel",
          "model_module_version": "1.2.0",
          "state": {
            "_view_name": "LayoutView",
            "grid_template_rows": null,
            "right": null,
            "justify_content": null,
            "_view_module": "@jupyter-widgets/base",
            "overflow": null,
            "_model_module_version": "1.2.0",
            "_view_count": null,
            "flex_flow": null,
            "width": null,
            "min_width": null,
            "border": null,
            "align_items": null,
            "bottom": null,
            "_model_module": "@jupyter-widgets/base",
            "top": null,
            "grid_column": null,
            "overflow_y": null,
            "overflow_x": null,
            "grid_auto_flow": null,
            "grid_area": null,
            "grid_template_columns": null,
            "flex": null,
            "_model_name": "LayoutModel",
            "justify_items": null,
            "grid_row": null,
            "max_height": null,
            "align_content": null,
            "visibility": null,
            "align_self": null,
            "height": null,
            "min_height": null,
            "padding": null,
            "grid_auto_rows": null,
            "grid_gap": null,
            "max_width": null,
            "order": null,
            "_view_module_version": "1.2.0",
            "grid_template_areas": null,
            "object_position": null,
            "object_fit": null,
            "grid_auto_columns": null,
            "margin": null,
            "display": null,
            "left": null
          }
        },
        "9881441031dc4501a8a11ece49ed0bb5": {
          "model_module": "@jupyter-widgets/controls",
          "model_name": "ProgressStyleModel",
          "model_module_version": "1.5.0",
          "state": {
            "_view_name": "StyleView",
            "_model_name": "ProgressStyleModel",
            "description_width": "",
            "_view_module": "@jupyter-widgets/base",
            "_model_module_version": "1.5.0",
            "_view_count": null,
            "_view_module_version": "1.2.0",
            "bar_color": null,
            "_model_module": "@jupyter-widgets/controls"
          }
        },
        "8802356836c04cab848a571b3129cff5": {
          "model_module": "@jupyter-widgets/base",
          "model_name": "LayoutModel",
          "model_module_version": "1.2.0",
          "state": {
            "_view_name": "LayoutView",
            "grid_template_rows": null,
            "right": null,
            "justify_content": null,
            "_view_module": "@jupyter-widgets/base",
            "overflow": null,
            "_model_module_version": "1.2.0",
            "_view_count": null,
            "flex_flow": null,
            "width": null,
            "min_width": null,
            "border": null,
            "align_items": null,
            "bottom": null,
            "_model_module": "@jupyter-widgets/base",
            "top": null,
            "grid_column": null,
            "overflow_y": null,
            "overflow_x": null,
            "grid_auto_flow": null,
            "grid_area": null,
            "grid_template_columns": null,
            "flex": null,
            "_model_name": "LayoutModel",
            "justify_items": null,
            "grid_row": null,
            "max_height": null,
            "align_content": null,
            "visibility": null,
            "align_self": null,
            "height": null,
            "min_height": null,
            "padding": null,
            "grid_auto_rows": null,
            "grid_gap": null,
            "max_width": null,
            "order": null,
            "_view_module_version": "1.2.0",
            "grid_template_areas": null,
            "object_position": null,
            "object_fit": null,
            "grid_auto_columns": null,
            "margin": null,
            "display": null,
            "left": null
          }
        },
        "e6369dfa6a5c4fada05be3d06b1dc53f": {
          "model_module": "@jupyter-widgets/controls",
          "model_name": "DescriptionStyleModel",
          "model_module_version": "1.5.0",
          "state": {
            "_view_name": "StyleView",
            "_model_name": "DescriptionStyleModel",
            "description_width": "",
            "_view_module": "@jupyter-widgets/base",
            "_model_module_version": "1.5.0",
            "_view_count": null,
            "_view_module_version": "1.2.0",
            "_model_module": "@jupyter-widgets/controls"
          }
        },
        "6fd1c1527471471586d4a920bd9fed80": {
          "model_module": "@jupyter-widgets/base",
          "model_name": "LayoutModel",
          "model_module_version": "1.2.0",
          "state": {
            "_view_name": "LayoutView",
            "grid_template_rows": null,
            "right": null,
            "justify_content": null,
            "_view_module": "@jupyter-widgets/base",
            "overflow": null,
            "_model_module_version": "1.2.0",
            "_view_count": null,
            "flex_flow": null,
            "width": null,
            "min_width": null,
            "border": null,
            "align_items": null,
            "bottom": null,
            "_model_module": "@jupyter-widgets/base",
            "top": null,
            "grid_column": null,
            "overflow_y": null,
            "overflow_x": null,
            "grid_auto_flow": null,
            "grid_area": null,
            "grid_template_columns": null,
            "flex": null,
            "_model_name": "LayoutModel",
            "justify_items": null,
            "grid_row": null,
            "max_height": null,
            "align_content": null,
            "visibility": null,
            "align_self": null,
            "height": null,
            "min_height": null,
            "padding": null,
            "grid_auto_rows": null,
            "grid_gap": null,
            "max_width": null,
            "order": null,
            "_view_module_version": "1.2.0",
            "grid_template_areas": null,
            "object_position": null,
            "object_fit": null,
            "grid_auto_columns": null,
            "margin": null,
            "display": null,
            "left": null
          }
        },
        "0ebe188a935344a48d6d9b1b4cc642a4": {
          "model_module": "@jupyter-widgets/controls",
          "model_name": "HBoxModel",
          "model_module_version": "1.5.0",
          "state": {
            "_view_name": "HBoxView",
            "_dom_classes": [],
            "_model_name": "HBoxModel",
            "_view_module": "@jupyter-widgets/controls",
            "_model_module_version": "1.5.0",
            "_view_count": null,
            "_view_module_version": "1.5.0",
            "box_style": "",
            "layout": "IPY_MODEL_c75193e0d60e4f4eb27c0344d65426f8",
            "_model_module": "@jupyter-widgets/controls",
            "children": [
              "IPY_MODEL_0387c35341a3489b8af6c189b5dbc389",
              "IPY_MODEL_a2e4e10828eb4e1b9522fabdacd1b8f8",
              "IPY_MODEL_40cb5890bc6b420a91030e92848b14a9"
            ]
          }
        },
        "c75193e0d60e4f4eb27c0344d65426f8": {
          "model_module": "@jupyter-widgets/base",
          "model_name": "LayoutModel",
          "model_module_version": "1.2.0",
          "state": {
            "_view_name": "LayoutView",
            "grid_template_rows": null,
            "right": null,
            "justify_content": null,
            "_view_module": "@jupyter-widgets/base",
            "overflow": null,
            "_model_module_version": "1.2.0",
            "_view_count": null,
            "flex_flow": null,
            "width": null,
            "min_width": null,
            "border": null,
            "align_items": null,
            "bottom": null,
            "_model_module": "@jupyter-widgets/base",
            "top": null,
            "grid_column": null,
            "overflow_y": null,
            "overflow_x": null,
            "grid_auto_flow": null,
            "grid_area": null,
            "grid_template_columns": null,
            "flex": null,
            "_model_name": "LayoutModel",
            "justify_items": null,
            "grid_row": null,
            "max_height": null,
            "align_content": null,
            "visibility": null,
            "align_self": null,
            "height": null,
            "min_height": null,
            "padding": null,
            "grid_auto_rows": null,
            "grid_gap": null,
            "max_width": null,
            "order": null,
            "_view_module_version": "1.2.0",
            "grid_template_areas": null,
            "object_position": null,
            "object_fit": null,
            "grid_auto_columns": null,
            "margin": null,
            "display": null,
            "left": null
          }
        },
        "0387c35341a3489b8af6c189b5dbc389": {
          "model_module": "@jupyter-widgets/controls",
          "model_name": "HTMLModel",
          "model_module_version": "1.5.0",
          "state": {
            "_view_name": "HTMLView",
            "style": "IPY_MODEL_a92dd16217c14ae8bb58d890129ce16c",
            "_dom_classes": [],
            "description": "",
            "_model_name": "HTMLModel",
            "placeholder": "​",
            "_view_module": "@jupyter-widgets/controls",
            "_model_module_version": "1.5.0",
            "value": "100%",
            "_view_count": null,
            "_view_module_version": "1.5.0",
            "description_tooltip": null,
            "_model_module": "@jupyter-widgets/controls",
            "layout": "IPY_MODEL_ecd023e0bc314dc19a5feb71e7e11d91"
          }
        },
        "a2e4e10828eb4e1b9522fabdacd1b8f8": {
          "model_module": "@jupyter-widgets/controls",
          "model_name": "FloatProgressModel",
          "model_module_version": "1.5.0",
          "state": {
            "_view_name": "ProgressView",
            "style": "IPY_MODEL_30b036e938ef46848ef978d2962f5f25",
            "_dom_classes": [],
            "description": "",
            "_model_name": "FloatProgressModel",
            "bar_style": "success",
            "max": 10000,
            "_view_module": "@jupyter-widgets/controls",
            "_model_module_version": "1.5.0",
            "value": 10000,
            "_view_count": null,
            "_view_module_version": "1.5.0",
            "orientation": "horizontal",
            "min": 0,
            "description_tooltip": null,
            "_model_module": "@jupyter-widgets/controls",
            "layout": "IPY_MODEL_d71b0e078cb342ddbe71abc2535d84ed"
          }
        },
        "40cb5890bc6b420a91030e92848b14a9": {
          "model_module": "@jupyter-widgets/controls",
          "model_name": "HTMLModel",
          "model_module_version": "1.5.0",
          "state": {
            "_view_name": "HTMLView",
            "style": "IPY_MODEL_adefa6277bd9476198266b7fca5a4c8a",
            "_dom_classes": [],
            "description": "",
            "_model_name": "HTMLModel",
            "placeholder": "​",
            "_view_module": "@jupyter-widgets/controls",
            "_model_module_version": "1.5.0",
            "value": " 10000/10000 [00:01&lt;00:00, 5932.66it/s]",
            "_view_count": null,
            "_view_module_version": "1.5.0",
            "description_tooltip": null,
            "_model_module": "@jupyter-widgets/controls",
            "layout": "IPY_MODEL_ebc10ddc85a1488fad5a49d4f07cde65"
          }
        },
        "a92dd16217c14ae8bb58d890129ce16c": {
          "model_module": "@jupyter-widgets/controls",
          "model_name": "DescriptionStyleModel",
          "model_module_version": "1.5.0",
          "state": {
            "_view_name": "StyleView",
            "_model_name": "DescriptionStyleModel",
            "description_width": "",
            "_view_module": "@jupyter-widgets/base",
            "_model_module_version": "1.5.0",
            "_view_count": null,
            "_view_module_version": "1.2.0",
            "_model_module": "@jupyter-widgets/controls"
          }
        },
        "ecd023e0bc314dc19a5feb71e7e11d91": {
          "model_module": "@jupyter-widgets/base",
          "model_name": "LayoutModel",
          "model_module_version": "1.2.0",
          "state": {
            "_view_name": "LayoutView",
            "grid_template_rows": null,
            "right": null,
            "justify_content": null,
            "_view_module": "@jupyter-widgets/base",
            "overflow": null,
            "_model_module_version": "1.2.0",
            "_view_count": null,
            "flex_flow": null,
            "width": null,
            "min_width": null,
            "border": null,
            "align_items": null,
            "bottom": null,
            "_model_module": "@jupyter-widgets/base",
            "top": null,
            "grid_column": null,
            "overflow_y": null,
            "overflow_x": null,
            "grid_auto_flow": null,
            "grid_area": null,
            "grid_template_columns": null,
            "flex": null,
            "_model_name": "LayoutModel",
            "justify_items": null,
            "grid_row": null,
            "max_height": null,
            "align_content": null,
            "visibility": null,
            "align_self": null,
            "height": null,
            "min_height": null,
            "padding": null,
            "grid_auto_rows": null,
            "grid_gap": null,
            "max_width": null,
            "order": null,
            "_view_module_version": "1.2.0",
            "grid_template_areas": null,
            "object_position": null,
            "object_fit": null,
            "grid_auto_columns": null,
            "margin": null,
            "display": null,
            "left": null
          }
        },
        "30b036e938ef46848ef978d2962f5f25": {
          "model_module": "@jupyter-widgets/controls",
          "model_name": "ProgressStyleModel",
          "model_module_version": "1.5.0",
          "state": {
            "_view_name": "StyleView",
            "_model_name": "ProgressStyleModel",
            "description_width": "",
            "_view_module": "@jupyter-widgets/base",
            "_model_module_version": "1.5.0",
            "_view_count": null,
            "_view_module_version": "1.2.0",
            "bar_color": null,
            "_model_module": "@jupyter-widgets/controls"
          }
        },
        "d71b0e078cb342ddbe71abc2535d84ed": {
          "model_module": "@jupyter-widgets/base",
          "model_name": "LayoutModel",
          "model_module_version": "1.2.0",
          "state": {
            "_view_name": "LayoutView",
            "grid_template_rows": null,
            "right": null,
            "justify_content": null,
            "_view_module": "@jupyter-widgets/base",
            "overflow": null,
            "_model_module_version": "1.2.0",
            "_view_count": null,
            "flex_flow": null,
            "width": null,
            "min_width": null,
            "border": null,
            "align_items": null,
            "bottom": null,
            "_model_module": "@jupyter-widgets/base",
            "top": null,
            "grid_column": null,
            "overflow_y": null,
            "overflow_x": null,
            "grid_auto_flow": null,
            "grid_area": null,
            "grid_template_columns": null,
            "flex": null,
            "_model_name": "LayoutModel",
            "justify_items": null,
            "grid_row": null,
            "max_height": null,
            "align_content": null,
            "visibility": null,
            "align_self": null,
            "height": null,
            "min_height": null,
            "padding": null,
            "grid_auto_rows": null,
            "grid_gap": null,
            "max_width": null,
            "order": null,
            "_view_module_version": "1.2.0",
            "grid_template_areas": null,
            "object_position": null,
            "object_fit": null,
            "grid_auto_columns": null,
            "margin": null,
            "display": null,
            "left": null
          }
        },
        "adefa6277bd9476198266b7fca5a4c8a": {
          "model_module": "@jupyter-widgets/controls",
          "model_name": "DescriptionStyleModel",
          "model_module_version": "1.5.0",
          "state": {
            "_view_name": "StyleView",
            "_model_name": "DescriptionStyleModel",
            "description_width": "",
            "_view_module": "@jupyter-widgets/base",
            "_model_module_version": "1.5.0",
            "_view_count": null,
            "_view_module_version": "1.2.0",
            "_model_module": "@jupyter-widgets/controls"
          }
        },
        "ebc10ddc85a1488fad5a49d4f07cde65": {
          "model_module": "@jupyter-widgets/base",
          "model_name": "LayoutModel",
          "model_module_version": "1.2.0",
          "state": {
            "_view_name": "LayoutView",
            "grid_template_rows": null,
            "right": null,
            "justify_content": null,
            "_view_module": "@jupyter-widgets/base",
            "overflow": null,
            "_model_module_version": "1.2.0",
            "_view_count": null,
            "flex_flow": null,
            "width": null,
            "min_width": null,
            "border": null,
            "align_items": null,
            "bottom": null,
            "_model_module": "@jupyter-widgets/base",
            "top": null,
            "grid_column": null,
            "overflow_y": null,
            "overflow_x": null,
            "grid_auto_flow": null,
            "grid_area": null,
            "grid_template_columns": null,
            "flex": null,
            "_model_name": "LayoutModel",
            "justify_items": null,
            "grid_row": null,
            "max_height": null,
            "align_content": null,
            "visibility": null,
            "align_self": null,
            "height": null,
            "min_height": null,
            "padding": null,
            "grid_auto_rows": null,
            "grid_gap": null,
            "max_width": null,
            "order": null,
            "_view_module_version": "1.2.0",
            "grid_template_areas": null,
            "object_position": null,
            "object_fit": null,
            "grid_auto_columns": null,
            "margin": null,
            "display": null,
            "left": null
          }
        }
      }
    },
    "accelerator": "GPU"
  },
  "cells": [
    {
      "cell_type": "code",
      "metadata": {
        "id": "f7x0Di08GaAa",
        "colab": {
          "base_uri": "https://localhost:8080/"
        },
        "outputId": "a2ff5a13-b658-46cf-a08f-3fd7ce36bd42"
      },
      "source": [
        "!nvidia-smi"
      ],
      "execution_count": null,
      "outputs": [
        {
          "output_type": "stream",
          "name": "stdout",
          "text": [
            "Sat Dec  4 05:37:29 2021       \n",
            "+-----------------------------------------------------------------------------+\n",
            "| NVIDIA-SMI 495.44       Driver Version: 460.32.03    CUDA Version: 11.2     |\n",
            "|-------------------------------+----------------------+----------------------+\n",
            "| GPU  Name        Persistence-M| Bus-Id        Disp.A | Volatile Uncorr. ECC |\n",
            "| Fan  Temp  Perf  Pwr:Usage/Cap|         Memory-Usage | GPU-Util  Compute M. |\n",
            "|                               |                      |               MIG M. |\n",
            "|===============================+======================+======================|\n",
            "|   0  Tesla P100-PCIE...  Off  | 00000000:00:04.0 Off |                    0 |\n",
            "| N/A   41C    P0    32W / 250W |      0MiB / 16280MiB |      0%      Default |\n",
            "|                               |                      |                  N/A |\n",
            "+-------------------------------+----------------------+----------------------+\n",
            "                                                                               \n",
            "+-----------------------------------------------------------------------------+\n",
            "| Processes:                                                                  |\n",
            "|  GPU   GI   CI        PID   Type   Process name                  GPU Memory |\n",
            "|        ID   ID                                                   Usage      |\n",
            "|=============================================================================|\n",
            "|  No running processes found                                                 |\n",
            "+-----------------------------------------------------------------------------+\n"
          ]
        }
      ]
    },
    {
      "cell_type": "code",
      "metadata": {
        "id": "k4w_TCeZGpLR",
        "colab": {
          "base_uri": "https://localhost:8080/"
        },
        "outputId": "0000a593-f2fd-4957-f57d-4330b97ae056"
      },
      "source": [
        "from google.colab import drive\n",
        "drive.mount('/content/drive',force_remount=True)\n",
        "import os\n",
        "#Edit this to match your choice of main_path\n",
        "main_path = \"/content/drive/My Drive/11777_multimodal_course\"\n",
        "os.chdir(main_path)\n",
        "#!pip --version\n",
        "os.chdir(\"final_project/seq2seq_data\")"
      ],
      "execution_count": null,
      "outputs": [
        {
          "output_type": "stream",
          "name": "stdout",
          "text": [
            "Mounted at /content/drive\n"
          ]
        }
      ]
    },
    {
      "cell_type": "markdown",
      "metadata": {
        "id": "f4B8fvc2gG3I"
      },
      "source": [
        "# Data Preprocessing for HF Training"
      ]
    },
    {
      "cell_type": "code",
      "metadata": {
        "id": "ivApXVz6clLU"
      },
      "source": [
        "import json\n",
        "\n",
        "def convert_to_HF_format(story_file,caption_file,output_file):\n",
        "    story_f = open(story_file)\n",
        "    caption_f = open(caption_file)\n",
        "    story_json = json.loads(story_f.read())\n",
        "    caption_json = json.loads(caption_f.read())\n",
        "    output_json = []\n",
        "    for k,v in story_json.items():\n",
        "        output_dict = {}\n",
        "        story_id = v[\"id\"]\n",
        "        album_id = v[\"album_id\"]\n",
        "        story = ' '.join(v[\"sent_texts\"])\n",
        "        captions = []\n",
        "        for img_id in v[\"img_ids\"]:\n",
        "            caption = caption_json[img_id][0][0].strip()\n",
        "            captions.append(caption)\n",
        "        output_dict['input'] = ' \\n '.join(captions)\n",
        "        output_dict['output'] = story\n",
        "        output_dict['album_id'] = album_id\n",
        "        output_dict['story_id'] = story_id\n",
        "        output_json.append(output_dict)\n",
        "    print(len(output_json))\n",
        "    print(output_json[:10])\n",
        "    with open(output_file,'w') as out_f:\n",
        "        json.dump(output_json,out_f,indent=4)\n",
        "    out_f.close()\n",
        "    print(f\"Output JSON in HF format written to file {output_file}\")"
      ],
      "execution_count": null,
      "outputs": []
    },
    {
      "cell_type": "code",
      "metadata": {
        "id": "mMzKBdfegUmn"
      },
      "source": [
        "story_file = 'stories_train.json'\n",
        "caption_file = 'captions/captions_train_sample100.json'\n",
        "output_file = 'training/stories_train_HF.json'\n",
        "#convert_to_HF_format(story_file,caption_file,output_file)"
      ],
      "execution_count": null,
      "outputs": []
    },
    {
      "cell_type": "markdown",
      "metadata": {
        "id": "zDSZUQR0syNn"
      },
      "source": [
        "# Get BART and T5 Tokenizer Lengths of the New Inputs"
      ]
    },
    {
      "cell_type": "code",
      "metadata": {
        "id": "t2Rq-ZRwwo5o"
      },
      "source": [
        "!pip install datasets\n",
        "!pip install --no-cache-dir transformers==4.3.3 sentencepiece==0.1.95"
      ],
      "execution_count": null,
      "outputs": []
    },
    {
      "cell_type": "code",
      "metadata": {
        "id": "ayeWhgamv6z0"
      },
      "source": [
        "#this cell contains the filenames and so forth to be used by most of the code below. for convenience purposes they are all here (for quick and efficient modification)\n",
        "\n",
        "train_json_filename = 'training/stories_train_HF_kw_5grams.json'"
      ],
      "execution_count": null,
      "outputs": []
    },
    {
      "cell_type": "code",
      "metadata": {
        "colab": {
          "base_uri": "https://localhost:8080/"
        },
        "id": "Qg-SthwIv7I4",
        "outputId": "491a7f84-8830-488e-9db3-f847ebad3d47"
      },
      "source": [
        "import json\n",
        "\n",
        "# load data from json file. format: list of dictionaries, each containing one example, where keys of each dict are \"document\", \"edited_key\" (specified as argument), \"id\", and \"summary\" (and possibly additional keys, these are just the mandatory ones)\n",
        "def load_from_json(filename):\n",
        "    with open(filename) as f:\n",
        "        loaded_json = json.loads(f.read())\n",
        "    print(type(loaded_json))\n",
        "    print(loaded_json[0])\n",
        "    inputs = [x['input'] for x in loaded_json]\n",
        "    outputs = [x['output'] for x in loaded_json]\n",
        "    print('input:', inputs[0])\n",
        "    print('output:', outputs[0])\n",
        "    return loaded_json\n",
        "\n",
        "loaded_train_json = load_from_json(train_json_filename)"
      ],
      "execution_count": null,
      "outputs": [
        {
          "output_type": "stream",
          "name": "stdout",
          "text": [
            "<class 'list'>\n",
            "{'input': 'tree <s> big wall with a grassy \\n plaque covered with information displayed <s> tree \\n branches wrapped around tree trunk \\n man standing in front <s> tree \\n parklet and dirt path <s> tree', 'output': 'we found this tree when we were walking in a nearby town . it turns out it is a popular attraction here . the tree is very unusual , with its roots exposed . the trunk was really wide , as much as 12 feet ! you can see how big these roots are - pretty amazing !', 'album_id': '72157605930515606', 'story_id': '30356'}\n",
            "input: tree <s> big wall with a grassy \n",
            " plaque covered with information displayed <s> tree \n",
            " branches wrapped around tree trunk \n",
            " man standing in front <s> tree \n",
            " parklet and dirt path <s> tree\n",
            "output: we found this tree when we were walking in a nearby town . it turns out it is a popular attraction here . the tree is very unusual , with its roots exposed . the trunk was really wide , as much as 12 feet ! you can see how big these roots are - pretty amazing !\n"
          ]
        }
      ]
    },
    {
      "cell_type": "code",
      "metadata": {
        "colab": {
          "base_uri": "https://localhost:8080/"
        },
        "id": "cBIZbwXVv8IP",
        "outputId": "ec0b78fa-c9a6-464b-c7df-dd93ff78f41c"
      },
      "source": [
        "#modified : this cell has been inserted\n",
        "\n",
        "#convert loaded json format to format required to load into huggingface dataset. edited_key argument same as earlier\n",
        "def convert_json_format(loaded_json):#(loaded_train_json,loaded_val_json):\n",
        "    loaded_dict = {}\n",
        "    input_lst = [x['input'] for x in loaded_json]\n",
        "    print(len(input_lst))\n",
        "    output_lst = [x['output'] for x in loaded_json]\n",
        "    print(len(output_lst))\n",
        "    loaded_dict['input'] = input_lst\n",
        "    loaded_dict['output'] = output_lst\n",
        "    print(loaded_dict['input'][:3])\n",
        "    print(loaded_dict['output'][:3])\n",
        "    return loaded_dict\n",
        "      \n",
        "#converted_commongen_json = convert_json_format(loaded_train_json,loaded_val_json) #67389 train examples, 4018 val examples\n",
        "converted_train_json = convert_json_format(loaded_train_json)"
      ],
      "execution_count": null,
      "outputs": [
        {
          "output_type": "stream",
          "name": "stdout",
          "text": [
            "10000\n",
            "10000\n",
            "['tree <s> big wall with a grassy \\n plaque covered with information displayed <s> tree \\n branches wrapped around tree trunk \\n man standing in front <s> tree \\n parklet and dirt path <s> tree', 'tree <s> big wall with a grassy \\n plaque covered with information displayed <s> tree \\n branches wrapped around tree trunk \\n man standing in front <s> tree \\n parklet and dirt path <s> tree', 'tree <s> big wall with a grassy \\n plaque covered with information displayed <s> tree \\n branches wrapped around tree trunk \\n man standing in front <s> tree \\n parklet and dirt path <s> tree']\n",
            "['we found this tree when we were walking in a nearby town . it turns out it is a popular attraction here . the tree is very unusual , with its roots exposed . the trunk was really wide , as much as 12 feet ! you can see how big these roots are - pretty amazing !', 'they went to the botanic gardens specifically to see the large tree . there was an informational sign posted near it . the roots were huge and spread out over the ground . the trunk was incredibly thick and rigid . the large roots were almost as thick as the trunk .', \"we went to see the largest tree in the country . the plack under it had some interesting information . there was a good view of the water from the tree as well . i was dwarfed by the tree 's size . in the end we went over to the visitor center .\"]\n"
          ]
        }
      ]
    },
    {
      "cell_type": "code",
      "metadata": {
        "colab": {
          "base_uri": "https://localhost:8080/"
        },
        "id": "V_6ifvxvv-Wx",
        "outputId": "c0fb9747-34e2-4fe4-a52d-8b75194a565c"
      },
      "source": [
        "#modified : this cell has been inserted\n",
        "\n",
        "from datasets import Dataset\n",
        "\n",
        "#convert the converted_json to huggingface dataset format\n",
        "def load_huggingface_dataset_from_dict(converted_json):\n",
        "    #train_dataset = Dataset.from_dict(converted_json[\"train\"])\n",
        "    #val_dataset = Dataset.from_dict(converted_json[\"validation\"])\n",
        "    loaded_hf_dataset = Dataset.from_dict(converted_json)\n",
        "    print(type(loaded_hf_dataset))\n",
        "    print(loaded_hf_dataset)\n",
        "    return loaded_hf_dataset\n",
        "\n",
        "commongen_train = load_huggingface_dataset_from_dict(converted_train_json)\n",
        "print(commongen_train[:5])"
      ],
      "execution_count": null,
      "outputs": [
        {
          "output_type": "stream",
          "name": "stdout",
          "text": [
            "<class 'datasets.arrow_dataset.Dataset'>\n",
            "Dataset({\n",
            "    features: ['input', 'output'],\n",
            "    num_rows: 10000\n",
            "})\n",
            "{'input': ['tree <s> big wall with a grassy \\n plaque covered with information displayed <s> tree \\n branches wrapped around tree trunk \\n man standing in front <s> tree \\n parklet and dirt path <s> tree', 'tree <s> big wall with a grassy \\n plaque covered with information displayed <s> tree \\n branches wrapped around tree trunk \\n man standing in front <s> tree \\n parklet and dirt path <s> tree', 'tree <s> big wall with a grassy \\n plaque covered with information displayed <s> tree \\n branches wrapped around tree trunk \\n man standing in front <s> tree \\n parklet and dirt path <s> tree', 'statue of the scottish union <s> walkway \\n stone clock tower <s> building \\n large <s> pink <s> purple flowers and white leaves \\n faces <s> large display of different sculpture \\n white <s> food <s> pie topped with gravy', 'statue of the scottish union <s> walkway \\n stone clock tower <s> building \\n large <s> pink <s> purple flowers and white leaves \\n faces <s> large display of different sculpture \\n white <s> food <s> pie topped with gravy'], 'output': ['we found this tree when we were walking in a nearby town . it turns out it is a popular attraction here . the tree is very unusual , with its roots exposed . the trunk was really wide , as much as 12 feet ! you can see how big these roots are - pretty amazing !', 'they went to the botanic gardens specifically to see the large tree . there was an informational sign posted near it . the roots were huge and spread out over the ground . the trunk was incredibly thick and rigid . the large roots were almost as thick as the trunk .', \"we went to see the largest tree in the country . the plack under it had some interesting information . there was a good view of the water from the tree as well . i was dwarfed by the tree 's size . in the end we went over to the visitor center .\", \"our trip to location last year was filled with beauty . sculptures could be found everywhere we went . the architecture was old and interesting . since it was spring , beautiful flowers lined the streets . this pink bloom was particularly lovely . we went to a museum and saw this odd collection of hanging faces ! i 'd have to say my favorite part of the trip would have to be the food though . we ca n't wait to go back again !\", 'i went on vacation this past year . i saw some really cool buildings . there were some flowers unique to the area too . i also went to a museum where there was this creepy head floating exhibit . afterwards i had some great food before i headed home !']}\n"
          ]
        }
      ]
    },
    {
      "cell_type": "code",
      "metadata": {
        "id": "V-fTL3aEtSpG",
        "colab": {
          "base_uri": "https://localhost:8080/",
          "height": 81,
          "referenced_widgets": [
            "b3cfa6ab2a694c7db91978186c430b4d",
            "795a8558a3144e078b01951e2818607a",
            "6acd1a61b6a64f0e87db37d4bab66700",
            "04c10ad9031748adb0594775e960eb69",
            "977d65e02bd84ef4b2069116cf02c0ef",
            "a76fe9da299c41c7b18147f1143d463a",
            "432db5aee001452988e22a3c59f83aad",
            "36565a95884f449bb3094782a4317bb5",
            "62c7edc7c79a4a4fb12a9d3bbbcc3b03",
            "ac730b46dcf84f60b99c0acb2a989365",
            "3cb3b80206064154bd5a8eb84b726757",
            "af9ec6313be240ca9adafe0db56dfcbb",
            "72bc680279c345f8a380a290babe2924",
            "935d937898614884a4047116b8b55271",
            "fc96face7fa24129af96c4ee74e47845",
            "6c50999c6b1f481682fac6e2861d04a3",
            "a901195b84ec49d29d0da018b78df41f",
            "aae363bd3c6b4143ae5669add1f538bd",
            "a9922a37aa004e20bac198ed262c6b61",
            "133852f8239b4ca19c27a56b8e87232d",
            "1fcca7854ebf4c8483990ce577b98b41",
            "f4e0773ece6d490794f8fb8fd2f7556d"
          ]
        },
        "outputId": "7f9e7e71-1fee-459a-e267-2dd3552a5869"
      },
      "source": [
        "from transformers import AutoTokenizer, AutoModelForSeq2SeqLM                   \n",
        "from transformers import Trainer, TrainingArguments\n",
        "\n",
        "# see https://discuss.huggingface.co/t/error-with-new-tokenizers-urgent/2847/4\n",
        "bart_or_t5 = \"t5\"\n",
        "if bart_or_t5 == \"bart\":\n",
        "    tokenizer = AutoTokenizer.from_pretrained(\"facebook/bart-base\", use_fast=False)\n",
        "if bart_or_t5 == \"t5\":\n",
        "    tokenizer = AutoTokenizer.from_pretrained(\"t5-base\", use_fast=False)"
      ],
      "execution_count": null,
      "outputs": [
        {
          "output_type": "display_data",
          "data": {
            "application/vnd.jupyter.widget-view+json": {
              "model_id": "b3cfa6ab2a694c7db91978186c430b4d",
              "version_minor": 0,
              "version_major": 2
            },
            "text/plain": [
              "Downloading:   0%|          | 0.00/1.20k [00:00<?, ?B/s]"
            ]
          },
          "metadata": {}
        },
        {
          "output_type": "display_data",
          "data": {
            "application/vnd.jupyter.widget-view+json": {
              "model_id": "af9ec6313be240ca9adafe0db56dfcbb",
              "version_minor": 0,
              "version_major": 2
            },
            "text/plain": [
              "Downloading:   0%|          | 0.00/792k [00:00<?, ?B/s]"
            ]
          },
          "metadata": {}
        }
      ]
    },
    {
      "cell_type": "code",
      "metadata": {
        "colab": {
          "base_uri": "https://localhost:8080/"
        },
        "id": "g8ihD0KutTAF",
        "outputId": "811a3b87-fb4b-4821-c8b4-a8700393414d"
      },
      "source": [
        "#test0 = tokenizer.tokenize(loaded_test_json[0][\"input\"])\n",
        "test1 = tokenizer.tokenize(\"hello <s> bye\")\n",
        "test2 = tokenizer.tokenize(\"hello <sep> bye\")\n",
        "test3 = tokenizer.tokenize(\"hello _eos bye\")\n",
        "test4 = tokenizer.tokenize(\"hello \\n bye\")\n",
        "#print(test0)\n",
        "print(test1)\n",
        "print(test2)\n",
        "print(test3)\n",
        "print(test4)"
      ],
      "execution_count": null,
      "outputs": [
        {
          "output_type": "stream",
          "name": "stdout",
          "text": [
            "['▁hello', '▁', '<', 's', '>', '▁by', 'e']\n",
            "['▁hello', '▁', '<', 's', 'e', 'p', '>', '▁by', 'e']\n",
            "['▁hello', '▁', '_', 'e', 'o', 's', '▁by', 'e']\n",
            "['▁hello', '▁by', 'e']\n"
          ]
        }
      ]
    },
    {
      "cell_type": "code",
      "metadata": {
        "colab": {
          "base_uri": "https://localhost:8080/"
        },
        "id": "l5Ye11r3tYHp",
        "outputId": "7ef96a95-e926-4908-b6ae-b58b3f725db9"
      },
      "source": [
        "#test0_n = tokenizer.convert_tokens_to_string(test0)\n",
        "test1_n = tokenizer.convert_tokens_to_string(test1)\n",
        "test2_n = tokenizer.convert_tokens_to_string(test2)\n",
        "test3_n = tokenizer.convert_tokens_to_string(test3)\n",
        "test4_n = tokenizer.convert_tokens_to_string(test4)\n",
        "\n",
        "#print(test0_n)\n",
        "print(test1_n)\n",
        "print(test2_n)\n",
        "print(test3_n)\n",
        "print(test4_n)"
      ],
      "execution_count": null,
      "outputs": [
        {
          "output_type": "stream",
          "name": "stdout",
          "text": [
            "hello <s> bye\n",
            "hello <sep> bye\n",
            "hello _eos bye\n",
            "hello bye\n"
          ]
        }
      ]
    },
    {
      "cell_type": "code",
      "metadata": {
        "id": "lJyXi9yqtYVy"
      },
      "source": [
        "def map_to_length(x):\n",
        "    x[\"article_len\"] = len(tokenizer(x[\"input\"]).input_ids)\n",
        "    x[\"article_longer_32\"] = int(x[\"article_len\"] > 32)\n",
        "    x[\"article_longer_64\"] = int(x[\"article_len\"] > 64)\n",
        "    x[\"article_longer_128\"] = int(x[\"article_len\"] > 128)\n",
        "    x[\"article_longer_256\"] = int(x[\"article_len\"] > 256)\n",
        "    x[\"article_longer_512\"] = int(x[\"article_len\"] > 512)\n",
        "    x[\"article_longer_1024\"] = int(x[\"article_len\"] > 1024)\n",
        "    x[\"summary_len\"] = len(tokenizer(x[\"output\"]).input_ids)\n",
        "    x[\"summary_longer_32\"] = int(x[\"summary_len\"] > 32)\n",
        "    x[\"summary_longer_64\"] = int(x[\"summary_len\"] > 64)\n",
        "    x[\"summary_longer_128\"] = int(x[\"summary_len\"] > 128)\n",
        "    x[\"summary_longer_256\"] = int(x[\"summary_len\"] > 256)\n",
        "    return x\n",
        "\n",
        "def compute_and_print_stats(x):\n",
        "  if len(x[\"article_len\"]) == sample_size:\n",
        "    print(\"sample_size: \", sample_size)\n",
        "    print(\n",
        "        \"Article Mean: {}, %-Articles > 32: {}, %-Articles > 64: {}, %-Articles > 128: {}, %-Articles > 256: {}, %-Articles > 512: {}, %-Articles > 1024: {}, Summary Mean: {}, %-Summary > 32: {}, %-Summary > 64: {}, %-Summary > 128: {}, %-Summary > 256: {}\".format(\n",
        "            sum(x[\"article_len\"]) / sample_size,\n",
        "            sum(x[\"article_longer_32\"]) / sample_size, \n",
        "            sum(x[\"article_longer_64\"]) / sample_size, \n",
        "            sum(x[\"article_longer_128\"]) / sample_size, \n",
        "            sum(x[\"article_longer_256\"]) / sample_size, \n",
        "            sum(x[\"article_longer_512\"]) / sample_size, \n",
        "            sum(x[\"article_longer_1024\"]) / sample_size, \n",
        "            sum(x[\"summary_len\"]) / sample_size,\n",
        "            sum(x[\"summary_longer_32\"]) / sample_size,\n",
        "            sum(x[\"summary_longer_64\"]) / sample_size,\n",
        "            sum(x[\"summary_longer_128\"]) / sample_size,\n",
        "            sum(x[\"summary_longer_256\"]) / sample_size,\n",
        "        )\n",
        "    )"
      ],
      "execution_count": null,
      "outputs": []
    },
    {
      "cell_type": "code",
      "metadata": {
        "colab": {
          "base_uri": "https://localhost:8080/",
          "height": 49,
          "referenced_widgets": [
            "5cf4ba25e8ec48f28bf7e53a287eb1a7",
            "aaa80aee998943a2bb0ce3f3e6e64233",
            "d23033f4d28c4dc69ef32e427287f5d7",
            "bdb371ac2e7b4c1fb5cbb4d8af68ee37",
            "67507fb1f82f4d68bef503443bc93e01",
            "7f6534b9818f42d5aa5d91d97b8619d5",
            "033a1faadc4740efb14230fa13d47dae",
            "38eb9092654346f58865dc479d0bde66",
            "4f13eaaeedeb480c88e2e136025fada3",
            "6c53649bd577470fb97fd6a6e113654e",
            "9917a76a8b1e4291a040bb510b45c368"
          ]
        },
        "id": "ZRvOXmjztb3i",
        "outputId": "f08f03c5-2fb5-41a1-d847-4039fe049a6f"
      },
      "source": [
        "sample_size = len(commongen_train)\n",
        "train_data_stats = commongen_train.select(range(len(commongen_train))).map(map_to_length, num_proc=1)"
      ],
      "execution_count": null,
      "outputs": [
        {
          "output_type": "display_data",
          "data": {
            "application/vnd.jupyter.widget-view+json": {
              "model_id": "5cf4ba25e8ec48f28bf7e53a287eb1a7",
              "version_minor": 0,
              "version_major": 2
            },
            "text/plain": [
              "  0%|          | 0/10000 [00:00<?, ?ex/s]"
            ]
          },
          "metadata": {}
        }
      ]
    },
    {
      "cell_type": "code",
      "metadata": {
        "colab": {
          "base_uri": "https://localhost:8080/",
          "height": 105,
          "referenced_widgets": [
            "09f5fefba1064d3b948bfa6f8df4dd50",
            "6f80561413964f8e90440eac7564f638",
            "828e5ad139f245b59272dccb15d3f6be",
            "d48b435a5e6449cbb8d8a3ec7afb0a9c",
            "58a9a89252fe437891db56d6becc33bf",
            "b52c7d42fb54474dbec74f4fc7cb6eaf",
            "cfbbbb959345487a9633cf3069fc8bdb",
            "9881441031dc4501a8a11ece49ed0bb5",
            "8802356836c04cab848a571b3129cff5",
            "e6369dfa6a5c4fada05be3d06b1dc53f",
            "6fd1c1527471471586d4a920bd9fed80"
          ]
        },
        "id": "F7rtprz7tcAR",
        "outputId": "0aeba7a9-c054-4ca8-a2ae-69a50930e6ff"
      },
      "source": [
        "output = train_data_stats.map(\n",
        "  compute_and_print_stats, \n",
        "  batched=True,\n",
        "  batch_size=-1,\n",
        ")\n",
        "\n",
        "#T5-base:\n",
        "#train full captions: \n",
        "#Article Mean: 66.8844, %-Articles > 32: 1.0, %-Articles > 64: 0.6227, %-Articles > 128: 0.0, %-Articles > 256: 0.0, %-Articles > 512: 0.0, %-Articles > 1024: 0.0, Summary Mean: 73.893, %-Summary > 32: 0.9863, %-Summary > 64: 0.6099, %-Summary > 128: 0.0317, %-Summary > 256: 0.0002\n",
        "#keyphrases 1-grams:\n",
        "#Article Mean: 112.5017, %-Articles > 32: 1.0, %-Articles > 64: 0.9997, %-Articles > 128: 0.1463, %-Articles > 256: 0.0, %-Articles > 512: 0.0, %-Articles > 1024: 0.0, Summary Mean: 73.893, %-Summary > 32: 0.9863, %-Summary > 64: 0.6099, %-Summary > 128: 0.0317, %-Summary > 256: 0.0002\n",
        "#keyphrases 3-grams:\n",
        "#Article Mean: 76.7588, %-Articles > 32: 1.0, %-Articles > 64: 0.8285, %-Articles > 128: 0.0003, %-Articles > 256: 0.0, %-Articles > 512: 0.0, %-Articles > 1024: 0.0, Summary Mean: 73.893, %-Summary > 32: 0.9863, %-Summary > 64: 0.6099, %-Summary > 128: 0.0317, %-Summary > 256: 0.0002\n",
        "#keyphrases 5-grams:\n",
        "#Article Mean: 49.8232, %-Articles > 32: 0.9755, %-Articles > 64: 0.0628, %-Articles > 128: 0.0, %-Articles > 256: 0.0, %-Articles > 512: 0.0, %-Articles > 1024: 0.0, Summary Mean: 73.893, %-Summary > 32: 0.9863, %-Summary > 64: 0.6099, %-Summary > 128: 0.0317, %-Summary > 256: 0.0002"
      ],
      "execution_count": null,
      "outputs": [
        {
          "output_type": "display_data",
          "data": {
            "application/vnd.jupyter.widget-view+json": {
              "model_id": "09f5fefba1064d3b948bfa6f8df4dd50",
              "version_minor": 0,
              "version_major": 2
            },
            "text/plain": [
              "  0%|          | 0/1 [00:00<?, ?ba/s]"
            ]
          },
          "metadata": {}
        },
        {
          "output_type": "stream",
          "name": "stdout",
          "text": [
            "sample_size:  10000\n",
            "Article Mean: 49.8232, %-Articles > 32: 0.9755, %-Articles > 64: 0.0628, %-Articles > 128: 0.0, %-Articles > 256: 0.0, %-Articles > 512: 0.0, %-Articles > 1024: 0.0, Summary Mean: 73.893, %-Summary > 32: 0.9863, %-Summary > 64: 0.6099, %-Summary > 128: 0.0317, %-Summary > 256: 0.0002\n"
          ]
        }
      ]
    },
    {
      "cell_type": "code",
      "metadata": {
        "colab": {
          "base_uri": "https://localhost:8080/",
          "height": 85,
          "referenced_widgets": [
            "0ebe188a935344a48d6d9b1b4cc642a4",
            "c75193e0d60e4f4eb27c0344d65426f8",
            "0387c35341a3489b8af6c189b5dbc389",
            "a2e4e10828eb4e1b9522fabdacd1b8f8",
            "40cb5890bc6b420a91030e92848b14a9",
            "a92dd16217c14ae8bb58d890129ce16c",
            "ecd023e0bc314dc19a5feb71e7e11d91",
            "30b036e938ef46848ef978d2962f5f25",
            "d71b0e078cb342ddbe71abc2535d84ed",
            "adefa6277bd9476198266b7fca5a4c8a",
            "ebc10ddc85a1488fad5a49d4f07cde65"
          ]
        },
        "id": "7Pq8oi4etqZZ",
        "outputId": "da6346ed-c111-4e55-a54c-75858a4de88c"
      },
      "source": [
        "from tqdm.auto import tqdm\n",
        "\n",
        "train_article_lens = []\n",
        "train_summary_lens = []\n",
        "for x in tqdm(train_data_stats):\n",
        "    train_article_lens.append(x[\"article_len\"])\n",
        "    train_summary_lens.append(x[\"summary_len\"])\n",
        "print(max(train_article_lens))\n",
        "print(max(train_summary_lens))\n",
        "\n",
        "#T5-base:\n",
        "#train full captions:\n",
        "#95 (choose 128 max encoder len)\n",
        "#374 (choose 128 max decoder len)\n",
        "#keyphrases 1-grams:\n",
        "#163 (choose 160 max encoder len)\n",
        "#374 (choose 128 max decoder len)\n",
        "#keyphrases 3-grams:\n",
        "#133 (choose 128 max encoder len)\n",
        "#374 (choose 128 max decoder len)\n",
        "#keyphrases 5-grams:\n",
        "#87 (choose 96 max encoder len)\n",
        "#374 (choose 128 max decoder len)"
      ],
      "execution_count": null,
      "outputs": [
        {
          "output_type": "display_data",
          "data": {
            "application/vnd.jupyter.widget-view+json": {
              "model_id": "0ebe188a935344a48d6d9b1b4cc642a4",
              "version_minor": 0,
              "version_major": 2
            },
            "text/plain": [
              "  0%|          | 0/10000 [00:00<?, ?it/s]"
            ]
          },
          "metadata": {}
        },
        {
          "output_type": "stream",
          "name": "stdout",
          "text": [
            "87\n",
            "374\n"
          ]
        }
      ]
    },
    {
      "cell_type": "markdown",
      "metadata": {
        "id": "6yNv4ZsWuGCe"
      },
      "source": [
        "# Keywords/keyphrases "
      ]
    },
    {
      "cell_type": "code",
      "metadata": {
        "id": "HdZT7CgnuHGk"
      },
      "source": [
        "!pip install git+https://github.com/LIAAD/yake"
      ],
      "execution_count": null,
      "outputs": []
    },
    {
      "cell_type": "code",
      "metadata": {
        "id": "CtFYivmSuHm7"
      },
      "source": [
        "'''default settings (used for most experiments):\n",
        "language = \"en\"\n",
        "max_ngram_size = 5 #2, 3, or 5 (for everything other than T5-large (where 3 is optimal), 2 is optimal)\n",
        "deduplication_threshold = 0 #set to 0 for maximum deduplication (no overlaps)\n",
        "deduplication_algo = 'seqm'\n",
        "windowSize = 1\n",
        "numOfKeywords = 10\n",
        "'''\n",
        "\n",
        "import yake\n",
        "#kw_extractor = yake.KeywordExtractor()\n",
        "language = \"en\"\n",
        "max_ngram_size = 5\n",
        "deduplication_threshold = 0.1 #between 0 and 1 inclusive. set to 0 for maximum deduplication (no overlaps).\n",
        "    #seems 0.5 is decent for max_ngram_size = 1\n",
        "    #seems 0.2 is decent for max_ngram_size = 3\n",
        "    #seems 0.1 is decent for max_ngram_size = 5\n",
        "deduplication_algo = 'seqm'\n",
        "windowSize = 1\n",
        "numOfKeywords = 10\n",
        "\n",
        "kw_extractor = yake.KeywordExtractor(lan=language, n=max_ngram_size, dedupLim=deduplication_threshold, dedupFunc=deduplication_algo, windowsSize=windowSize, top=numOfKeywords, features=None)"
      ],
      "execution_count": null,
      "outputs": []
    },
    {
      "cell_type": "code",
      "metadata": {
        "colab": {
          "base_uri": "https://localhost:8080/"
        },
        "id": "njmjsnsMuNZP",
        "outputId": "c5859ae4-8c45-4708-ddbb-a8f4bfc9d5c7"
      },
      "source": [
        "keywords = kw_extractor.extract_keywords(\"hello my name is blah\")\n",
        "print(keywords)"
      ],
      "execution_count": null,
      "outputs": [
        {
          "output_type": "stream",
          "name": "stdout",
          "text": [
            "[('blah', 0.15831692877998726)]\n"
          ]
        }
      ]
    },
    {
      "cell_type": "code",
      "metadata": {
        "id": "7yy1qdjwuORb"
      },
      "source": [
        "import string\n",
        "\n",
        "def extract_keywords_yake(example):\n",
        "    #print(example)\n",
        "    keywords = kw_extractor.extract_keywords(example)\n",
        "    keywords_only = [x[0].lower() for x in keywords]\n",
        "    #print(keywords_only)\n",
        "    try:\n",
        "        indices_lst = [example.translate(str.maketrans('', '', string.punctuation)).lower().split(' ').index(x.translate(str.maketrans('', '', string.punctuation)).lower().split(' ')[0]) for x in keywords_only]\n",
        "        sorted_indices, sorted_keywords = zip(*sorted(zip(indices_lst, keywords_only)))\n",
        "    except:\n",
        "        #print(example.translate(str.maketrans('', '', string.punctuation)).lower().split(' '))\n",
        "        #print([x.translate(str.maketrans('', '', string.punctuation)).lower().split(' ')[0] for x in keywords_only])\n",
        "        #print(\"error: {} | {}\".format(example,keywords_only))\n",
        "        sorted_keywords = keywords_only\n",
        "    #print(\"keywords_only: \", keywords_only)\n",
        "    keywords_str = ' <s> '.join(sorted_keywords)\n",
        "    return keywords_str"
      ],
      "execution_count": null,
      "outputs": []
    },
    {
      "cell_type": "code",
      "metadata": {
        "id": "GflFciRDugVE"
      },
      "source": [
        "from tqdm import tqdm\n",
        "\n",
        "def get_caption_keywords(normal_HF_file, output_file):\n",
        "    with open(normal_HF_file) as input_f:\n",
        "        input_json = json.loads(input_f.read())\n",
        "    print(len(input_json))\n",
        "    output_json = []\n",
        "    for example in tqdm(input_json):\n",
        "        output_dict = {}\n",
        "        captions = example['input'].split(' \\n ')\n",
        "        keyword_lst = []\n",
        "        for caption in captions:\n",
        "            keyword_lst.append(extract_keywords_yake(caption))\n",
        "        output_dict['input'] = ' \\n '.join(keyword_lst)\n",
        "        output_dict['output'] = example['output']\n",
        "        output_dict['album_id'] = example['album_id']\n",
        "        output_dict['story_id'] = example['story_id']\n",
        "        output_json.append(output_dict)\n",
        "    print(len(output_json))\n",
        "    print(output_json[:2])\n",
        "    with open(output_file,'w') as out_f:\n",
        "        json.dump(output_json,out_f,indent=4)\n",
        "    out_f.close()\n",
        "    print(f\"Output json written to {output_file}\")"
      ],
      "execution_count": null,
      "outputs": []
    },
    {
      "cell_type": "code",
      "metadata": {
        "id": "w_TggbCMwHnf"
      },
      "source": [
        "normal_HF_file = 'training/stories_test_HF.json'\n",
        "output_file = 'training/stories_test_HF_kw_5grams.json'\n",
        "#get_caption_keywords(normal_HF_file, output_file)"
      ],
      "execution_count": null,
      "outputs": []
    },
    {
      "cell_type": "markdown",
      "metadata": {
        "id": "ze0z5Cfjlvh8"
      },
      "source": [
        "# Summarization - Pegasus"
      ]
    },
    {
      "cell_type": "code",
      "metadata": {
        "id": "HK_6cqdElwY-"
      },
      "source": [
        "from transformers import PegasusTokenizer, PegasusForConditionalGeneration\n",
        "\n",
        "model = PegasusForConditionalGeneration.from_pretrained('google/pegasus-xsum')\n",
        "tokenizer = PegasusTokenizer.from_pretrained('google/pegasus-xsum')"
      ],
      "execution_count": null,
      "outputs": []
    },
    {
      "cell_type": "code",
      "metadata": {
        "colab": {
          "base_uri": "https://localhost:8080/"
        },
        "id": "J9sPxf-gnaYr",
        "outputId": "be157089-6720-4786-8587-fcd9ad0175da"
      },
      "source": [
        "#Example\n",
        "ARTICLE_TO_SUMMARIZE = (\"PG&E stated it scheduled the blackouts in response to forecasts for high winds amid dry conditions.\\\n",
        "The aim is to reduce the risk of wildfires. Nearly 800 thousand customers were scheduled to be affected by the \\\n",
        "shutoffs which were expected to last through at least midday tomorrow.\")\n",
        "inputs = tokenizer([ARTICLE_TO_SUMMARIZE], max_length=1024, return_tensors='pt')\n",
        "\n",
        "summary_ids = model.generate(inputs['input_ids'])\n",
        "print([tokenizer.decode(g, skip_special_tokens=True, clean_up_tokenization_spaces=False) for g in summary_ids])"
      ],
      "execution_count": null,
      "outputs": [
        {
          "output_type": "stream",
          "name": "stderr",
          "text": [
            "/usr/local/lib/python3.7/dist-packages/transformers/generation_utils.py:1648: UserWarning: __floordiv__ is deprecated, and its behavior will change in a future version of pytorch. It currently rounds toward 0 (like the 'trunc' function NOT 'floor'). This results in incorrect rounding for negative values. To keep the current behavior, use torch.div(a, b, rounding_mode='trunc'), or for actual floor division, use torch.div(a, b, rounding_mode='floor').\n",
            "  next_indices = next_tokens // vocab_size\n"
          ]
        },
        {
          "output_type": "stream",
          "name": "stdout",
          "text": [
            "['Images courtesy of AFP, EPA, Getty Images and Reuters']\n"
          ]
        }
      ]
    },
    {
      "cell_type": "code",
      "metadata": {
        "id": "kEOj62G3oNCT"
      },
      "source": [
        "from tqdm import tqdm\n",
        "\n",
        "def summarize_captions(normal_HF_file, output_file):\n",
        "    with open(normal_HF_file) as input_f:\n",
        "        input_json = json.loads(input_f.read())\n",
        "    print(len(input_json))\n",
        "    output_json = []\n",
        "    counter = 0\n",
        "    for example in tqdm(input_json):\n",
        "        output_dict = {}\n",
        "        captions = example['input'].replace(' \\n ',' ')\n",
        "        inputs = tokenizer([captions], max_length=1024, truncation=True, return_tensors='pt')\n",
        "        summary_ids = model.generate(inputs['input_ids'])\n",
        "        summary_output = [tokenizer.decode(g, skip_special_tokens=True, clean_up_tokenization_spaces=False) for g in summary_ids][0]     \n",
        "        if counter < 50:\n",
        "            print(captions)\n",
        "            print(summary_output)   \n",
        "        output_dict['input'] = summary_output\n",
        "        output_dict['output'] = example['output']\n",
        "        output_dict['album_id'] = example['album_id']\n",
        "        output_dict['story_id'] = example['story_id']\n",
        "        output_json.append(output_dict)\n",
        "        counter += 1\n",
        "    print(len(output_json))\n",
        "    print(output_json[:2])\n",
        "    with open(output_file,'w') as out_f:\n",
        "        json.dump(output_json,out_f,indent=4)\n",
        "    out_f.close()\n",
        "    print(f\"Output json written to {output_file}\")"
      ],
      "execution_count": null,
      "outputs": []
    },
    {
      "cell_type": "code",
      "metadata": {
        "id": "YEPxkMKrouIg"
      },
      "source": [
        "normal_HF_file = 'training/stories_val_HF.json'\n",
        "output_file = 'training/stories_val_HF_summarized.json'\n",
        "#summarize_captions(normal_HF_file, output_file)"
      ],
      "execution_count": null,
      "outputs": []
    }
  ]
}